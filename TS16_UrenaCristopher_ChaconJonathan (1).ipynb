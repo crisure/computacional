{
 "cells": [
  {
   "cell_type": "markdown",
   "id": "disabled-bradley",
   "metadata": {},
   "source": [
    "#Cristopher Ureña Tencio_ 2018104672\n",
    "#Jonathan Chacón Padron_"
   ]
  },
  {
   "cell_type": "code",
   "execution_count": 35,
   "id": "legal-badge",
   "metadata": {
    "scrolled": true
   },
   "outputs": [],
   "source": [
    "import numpy as np\n",
    "import itertools\n",
    "import matplotlib.pyplot as plt"
   ]
  },
  {
   "cell_type": "markdown",
   "id": "happy-symposium",
   "metadata": {},
   "source": [
    "## Inicialización de la población"
   ]
  },
  {
   "cell_type": "code",
   "execution_count": 56,
   "id": "cosmetic-effectiveness",
   "metadata": {
    "scrolled": true
   },
   "outputs": [],
   "source": [
    "def InicializarPoblacion(tamanoPoblacion, nGenes):\n",
    "    \n",
    "    \"\"\"\n",
    "    Esta funcion se genera una poblacion de cromosomas donde cada cromosoma tiene 5 datos.\n",
    "    Se hizo con ceros para probar inicialmente y con una cantidad de 10 cromosomas.\n",
    "    \"\"\"\n",
    "    \n",
    "    poblacion = []\n",
    "    for n in range (0, tamanoPoblacion):\n",
    "        cromosoma = []\n",
    "        for g in range (0, nGenes):\n",
    "            cromosoma.append(0)\n",
    "        poblacion.append(cromosoma) #Genera una poblacion de cromosomas\n",
    "\n",
    "    return poblacion\n",
    "\n",
    "#InicializarPoblacion(10,5)"
   ]
  },
  {
   "cell_type": "markdown",
   "id": "intensive-somewhere",
   "metadata": {},
   "source": [
    "## Decodificación del cromosoma"
   ]
  },
  {
   "cell_type": "code",
   "execution_count": 57,
   "id": "royal-stamp",
   "metadata": {
    "scrolled": true
   },
   "outputs": [],
   "source": [
    "def DecodificacionCromosoma(cromosoma):\n",
    "    \n",
    "    \"\"\"\n",
    "    En esta funcion se realiza la permutacion de los cromosomas, donde se cambian sus valores.\n",
    "    La funcion retorna un cromosoma de manera random.\n",
    "    \"\"\"\n",
    "    nGenes = len(cromosoma)\n",
    "    permutaciones = list(itertools.permutations(range(nGenes))) #Permuta los valores de los cromosomas\n",
    "    npermutaciones = len(permutaciones)\n",
    "    resultado = permutaciones[np.random.randint(0, npermutaciones-1)] #De manera aleatoria elige un cromosoma ya permutado\n",
    "\n",
    "    return resultado\n",
    "\n",
    "#matriz = InicializarPoblacion(10,5)\n",
    "#DecodificacionCromosoma(matriz[0])"
   ]
  },
  {
   "cell_type": "code",
   "execution_count": 58,
   "id": "6ffcda1d",
   "metadata": {},
   "outputs": [],
   "source": [
    "def OperadorMutación(cromosoma, mut):\n",
    "    \"\"\"\n",
    "    Esta funcion realiza la mutacion de un cromosoma con las posibilidades de mutar\n",
    "    \"\"\"\n",
    "    cromoMut = np.copy(cromosoma)\n",
    "    m = np.random.random()\n",
    "    if A < mut:\n",
    "        posibilidad1 = random.randint(0, len(cromosoma) - 1)\n",
    "        posibilidad2 = random.randint(0, len(cromosoma) - 1)\n",
    "        while posibilidad1 == posibilidad2:\n",
    "            posibilidad2 = random.randint(0, len(cromosoma) - 1)\n",
    "        # Se genera el intercambio de posición en dos de los valores del cromosoma\n",
    "        cromoMut[posibilidad1] = cromosoma[posibilidad2]\n",
    "        cromoMut[posibilidad2] = cromosoma[posibilidad1]\n",
    "    return cromoMut"
   ]
  },
  {
   "cell_type": "code",
   "execution_count": 59,
   "id": "1939f168",
   "metadata": {},
   "outputs": [],
   "source": [
    "def Coordenadas(nGenes):\n",
    "    \"\"\"\n",
    "    Esta funcion genera las coordenadas de las ciudades\n",
    "    \"\"\"\n",
    "    ubicacion = np.zeros(shape=(nGenes,2))\n",
    "    for i in range(nGenes):\n",
    "        ubicacion[i][0] = 0.1*((9+13*(i+1)**2)%200) # Punto de ubicacion en coordenada x\n",
    "        ubicacion[i][1] = 0.1*((7+1327*(i+1))%200) # Punto de ubicacion en coordenada y\n",
    "\n",
    "    return ubicacion"
   ]
  },
  {
   "cell_type": "markdown",
   "id": "significant-funds",
   "metadata": {},
   "source": [
    "## Funcion de Ajuste"
   ]
  },
  {
   "cell_type": "code",
   "execution_count": 60,
   "id": "corporate-blair",
   "metadata": {
    "scrolled": true
   },
   "outputs": [],
   "source": [
    "def funcionAjuste(cromosoma,ubicacion):\n",
    "    \"\"\"\n",
    "    Esta función calcula el ajuste, que es el inverso de la distancia recorrida.\n",
    "    \"\"\"\n",
    "    distanciaR = 0\n",
    "    for i in range(len(cromosoma)-1): # Se recorren los valores de las coordenadas en el orden dado por la información del cromosoma\n",
    "        a = ubicacion[cromosoma[i+1]]\n",
    "        b = ubicacion[cromosoma[i]]\n",
    "        distanciaR += ((a[0]-b[0])**2+(a[1]-b[1])**2)**(1/2)\n",
    "    # Se calcula la distancia entre la ultima y primera ciudad\n",
    "    # Se suma la distancia total recorrida\n",
    "    distanciaR += ((ubiacion[cromosoma[-1]][0]-ubicacion[cromosoma[0]][0])**2+(ubicacion[cromosoma[-1]][1]-[cromosoma[0]][1])**2)**(1/2)\n",
    "    \n",
    "    return (1/distanciaR)"
   ]
  },
  {
   "cell_type": "code",
   "execution_count": 61,
   "id": "8e9ca4ba",
   "metadata": {},
   "outputs": [],
   "source": [
    "#Aqui iria lo siguiente, si hubiera algo mas pero no pude :,v\n",
    "\n",
    "#Mas abajo irian las graficas, si hubiera servido lo que hice :,v"
   ]
  },
  {
   "cell_type": "code",
   "execution_count": null,
   "id": "412af66c",
   "metadata": {},
   "outputs": [],
   "source": []
  }
 ],
 "metadata": {
  "kernelspec": {
   "display_name": "Python 3 (ipykernel)",
   "language": "python",
   "name": "python3"
  },
  "language_info": {
   "codemirror_mode": {
    "name": "ipython",
    "version": 3
   },
   "file_extension": ".py",
   "mimetype": "text/x-python",
   "name": "python",
   "nbconvert_exporter": "python",
   "pygments_lexer": "ipython3",
   "version": "3.9.7"
  }
 },
 "nbformat": 4,
 "nbformat_minor": 5
}
